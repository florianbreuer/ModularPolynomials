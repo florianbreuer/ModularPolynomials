{
 "cells": [
  {
   "cell_type": "markdown",
   "metadata": {},
   "source": [
    "### Computations for the paper \n",
    "\n",
    "## \"Explicit bounds on the coefficients of modular polynomials and the size of $X_0(N)$\"\n",
    "\n",
    "<a href=\"https://arxiv.org/abs/2310.14428\" target=\"_blank\">Math>arXiv:2310.14428</a>\n",
    "\n",
    "<hr>"
   ]
  },
  {
   "cell_type": "markdown",
   "metadata": {},
   "source": [
    "\n",
    "\n",
    "We start by defining our functions in terms of their $q$-series. We must take care to use the same normalizations as in the article. Specifically, \n",
    "\n",
    "$$\\Delta(\\tau) = q\\prod_{n=1}^{\\infty}(1-q^n)^{24} = q -24q^2 + 252q^3 + \\cdots$$\n",
    "\n",
    "and\n",
    "\n",
    "$$(2\\pi)^{12}\\Delta(\\rho)=g_2(\\rho)^3-27g_3(\\rho)^2,$$\n",
    "\n",
    "so\n",
    "\n",
    "$$j(\\tau) = \\frac{g_2(\\tau)^3}{(2\\pi)^{12}\\Delta(\\tau)}.$$"
   ]
  },
  {
   "cell_type": "markdown",
   "metadata": {},
   "source": [
    "This is $\\Delta(\\tau)$:"
   ]
  },
  {
   "cell_type": "code",
   "execution_count": 14,
   "metadata": {},
   "outputs": [
    {
     "data": {
      "text/plain": [
       "7.28391402200000e11*q^199 + 1.45811787638400e12*q^198 - 2.87609150435400e12*q^197 + 2.49793278470400e12*q^196 - 7.03199584080000e11*q^195 - 1.80032564510400e12*q^194 + 5.44238768544200e12*q^193 + 6.80222785536000e11*q^192 + 2.76240335059200e12*q^191 - 1.23587180640000e12*q^190 + 1.22698491552000e12*q^189 - 3.95577698611200e12*q^188 - 3.69199518760800e12*q^187 + 3.19595480064000e11*q^186 - 8.80090306620000e11*q^185 + 1.57498361856000e12*q^184 + 1.75303262282400e12*q^183 - 2.32167481728000e11*q^182 - 9.96774496018000e11*q^181 + 8.07974455680000e11*q^180 + 1.68138422478000e12*q^179 + 5.99830010640000e11*q^178 - 1.30767934248000e12*q^177 + 5.27734751232000e11*q^176 + 4.26959023400000e11*q^175 - 7.76603298240000e11*q^174 - 9.50387449578000e11*q^173 + 2.52090421760000e10*q^172 - 1.21159575306000e12*q^171 + 8.00535869280000e11*q^170 - 1.45837919739300e12*q^169 - 3.56462346240000e11*q^168 + 2.75483389221600e12*q^167 + 7.04042392032000e11*q^166 + 6.50708341920000e11*q^165 - 4.53553290624000e11*q^164 - 3.57832759588000e11*q^163 - 3.99645206640000e10*q^162 - 3.12162946368000e11*q^161 - 9.50091448320000e11*q^160 - 4.02206035896000e11*q^159 - 9.14804296320000e11*q^158 + 1.31511675440600e12*q^157 + 2.14308444672000e11*q^156 - 2.55232501440000e11*q^155 + 2.14837039872000e11*q^154 + 7.84811057562000e11*q^153 + 9.00676761600000e11*q^152 - 8.24447297848000e11*q^151 + 1.54219312800000e11*q^150 - 1.11543362085000e12*q^149 + 2.68217998208000e11*q^148 - 4.27635232164000e11*q^147 - 3.51309917280000e10*q^146 + 6.20204022900000e11*q^145 - 1.12181096448000e11*q^144 - 3.08865667656000e11*q^143 - 2.34995646528000e11*q^142 + 6.77211820992000e11*q^141 + 1.19045821440000e11*q^140 + 5.96793577940000e11*q^139 - 1.12754509056000e11*q^138 - 2.97198746214000e11*q^137 - 5.83413304320000e11*q^136 - 3.53937956400000e11*q^135 + 3.71563845216000e11*q^134 - 1.78514816480000e11*q^133 - 1.98311113728000e11*q^132 + 6.31528759932000e11*q^131 + 6.69713889600000e10*q^130 - 4.31567841600000e9*q^129 + 3.38071388160000e11*q^128 - 2.62717201024000e11*q^127 - 4.56681214080000e10*q^126 - 3.59001100500000e11*q^125 + 7.77851432960000e10*q^124 + 7.76463513840000e10*q^123 - 1.66955487888000e11*q^122 + 4.98319933000000e8*q^121 + 1.02825676800000e11*q^120 + 1.15632958896000e11*q^119 + 1.24540889760000e11*q^118 + 6.56558795340000e10*q^117 - 1.89014559360000e11*q^116 + 9.00470037600000e10*q^115 - 6.44802681600000e10*q^114 - 8.51468626380000e10*q^113 - 1.65286051840000e10*q^112 - 4.59177551280000e10*q^111 - 6.19722230400000e10*q^110 + 7.34826763100000e10*q^109 + 1.07866805760000e11*q^108 + 9.02412583560000e10*q^107 + 3.83053367520000e10*q^106 - 2.03801270400000e10*q^105 - 4.88073062400000e10*q^104 - 2.25755128648000e11*q^103 + 4.17670888320000e10*q^102 + 8.17429591020000e10*q^101 + 3.75348592000000e10*q^100 - 6.07549115160000e10*q^99 + 4.07271649680000e10*q^98 + 7.50135685460000e10*q^97 - 4.95699886080000e10*q^96 + 5.14946586000000e10*q^95 - 6.44963639040000e10*q^94 - 1.33164783360000e10*q^93 - 2.74428963840000e10*q^92 + 9.67364507200000e9*q^91 + 1.31734965600000e10*q^90 - 2.49929171100000e10*q^89 + 4.51640217600000e10*q^88 + 3.23584707600000e10*q^87 + 4.11016992000000e8*q^86 - 3.33556612200000e10*q^85 + 6.21108633600000e9*q^84 - 2.93350996680000e10*q^83 - 7.39489060800000e9*q^82 + 1.66518836100000e9*q^81 + 4.76786688000000e9*q^80 + 3.81168456800000e10*q^79 + 3.49415942400000e9*q^78 - 8.95154332800000e9*q^77 - 1.56936102400000e10*q^76 - 6.42580470000000e9*q^75 + 4.37311953600000e9*q^74 + 1.46379132200000e9*q^73 - 9.60056064000000e9*q^72 + 9.79148527200000e9*q^71 + 1.94096448000000e9*q^70 + 4.69810454400000e9*q^69 + 1.01655348480000e10*q^68 - 1.54818268840000e10*q^67 - 3.23333337600000e9*q^66 - 2.79047454000000e9*q^65 + 2.69929676800000e9*q^64 + 1.90283839200000e9*q^63 + 1.26823603200000e9*q^62 + 6.95647866200000e9*q^61 - 1.79165952000000e9*q^60 - 5.18920374000000e9*q^59 - 3.08175912000000e9*q^58 + 2.68667784000000e9*q^57 - 1.41453312000000e9*q^56 + 2.58217596000000e9*q^55 + 1.75869792000000e9*q^54 - 1.59605569800000e9*q^53 + 8.50430336000000e8*q^52 - 1.74029536800000e9*q^51 + 6.11981400000000e8*q^50 - 1.69696520700000e9*q^49 + 2.48758272000000e8*q^48 + 2.68734849600000e9*q^47 - 4.47438528000000e8*q^46 - 5.48895690000000e8*q^45 - 7.86948864000000e8*q^44 - 1.71257080000000e7*q^43 + 1.01267712000000e8*q^42 + 3.08120442000000e8*q^41 + 4.08038400000000e8*q^40 - 1.45589976000000e8*q^39 - 2.55874080000000e8*q^38 - 1.82213314000000e8*q^37 + 1.67282496000000e8*q^36 - 8.08735200000000e7*q^35 + 1.65742416000000e8*q^34 + 1.34722224000000e8*q^33 - 1.96706304000000e8*q^32 - 5.28431680000000e7*q^31 - 2.92118400000000e7*q^30 + 1.28406630000000e8*q^29 + 2.46471680000000e7*q^28 - 7.32790800000000e7*q^27 + 1.38657120000000e7*q^26 - 2.54992250000000e7*q^25 + 2.12889600000000e7*q^24 + 1.86432720000000e7*q^23 - 1.28306880000000e7*q^22 - 4.21948800000000e6*q^21 - 7.10976000000000e6*q^20 + 1.06614200000000e7*q^19 + 2.72743200000000e6*q^18 - 6.90593400000000e6*q^17 + 987136.000000000*q^16 + 1.21716000000000e6*q^15 + 401856.000000000*q^14 - 577738.000000000*q^13 - 370944.000000000*q^12 + 534612.000000000*q^11 - 115920.000000000*q^10 - 113643.000000000*q^9 + 84480.0000000000*q^8 - 16744.0000000000*q^7 - 6048.00000000000*q^6 + 4830.00000000000*q^5 - 1472.00000000000*q^4 + 252.000000000000*q^3 - 24.0000000000000*q^2 + q"
      ]
     },
     "execution_count": 14,
     "metadata": {},
     "output_type": "execute_result"
    }
   ],
   "source": [
    "# We borrow some of DAvid Lowry-Duda's code \n",
    "# (https://math.stackexchange.com/questions/4302146/plotting-graphs-of-modular-forms):\n",
    "\n",
    "Htoq = lambda x: exp(2 * CDF.pi() * CDF.0 * x)  # maps \\tau to $q = e^{2\\pi pi \\tau}$\n",
    "C.<q> = CC[]   # the polynomial ring $\\mathbb{C}[q]$\n",
    "\n",
    "M12 = ModularForms(1, 12)  \n",
    "delta = M12.basis()[0]  # This is Delta\n",
    "dcoeffs = delta.coefficients(list(range(200)))  # take 100 coefficients\n",
    "deltapoly = C(dcoeffs)  # interpret coeffs in the polynomial ring C.<q>\n",
    "\n",
    "deltapoly"
   ]
  },
  {
   "cell_type": "markdown",
   "metadata": {},
   "source": [
    "Here is $g_2(\\tau)$. Note that our normalization requires $g_2(\\tau) = (2\\pi)^4G_2(\\tau)$, where $G_2(\\tau)$ is the built-in series:"
   ]
  },
  {
   "cell_type": "code",
   "execution_count": null,
   "metadata": {
    "scrolled": false
   },
   "outputs": [],
   "source": [
    "M4 = ModularForms(1, 4)  \n",
    "g2 = M4.basis()[0]  # This is g_2\n",
    "coeffs = g2.coefficients(list(range(100)))  # take 100 coefficients\n",
    "G2poly = C(coeffs)  # interpret coeffs in the polynomial ring C.<q>, normalize\n",
    "\n",
    "g2poly = (2 * CDF.pi())^4 * G2poly\n",
    "g2poly"
   ]
  },
  {
   "cell_type": "markdown",
   "metadata": {},
   "source": [
    "First sanity check: We should have\n",
    "$$j(i) = \\frac{g_2(i)^3}{(2\\pi)^{12}\\Delta(i)} = \\frac{G_2(i)^3}{\\Delta(i)} = 1728.$$"
   ]
  },
  {
   "cell_type": "code",
   "execution_count": 40,
   "metadata": {},
   "outputs": [
    {
     "data": {
      "text/plain": [
       "1728.00000000000"
      ]
     },
     "execution_count": 40,
     "metadata": {},
     "output_type": "execute_result"
    }
   ],
   "source": [
    "# using g_2, needs (2\\pi)^12 factor\n",
    "\n",
    "g2poly(Htoq(CDF.0))^3/((2*CDF.pi())^12*deltapoly(Htoq(CDF.0)))"
   ]
  },
  {
   "cell_type": "code",
   "execution_count": 39,
   "metadata": {},
   "outputs": [
    {
     "data": {
      "text/plain": [
       "1728.00000000000"
      ]
     },
     "execution_count": 39,
     "metadata": {},
     "output_type": "execute_result"
    }
   ],
   "source": [
    "# using G_2:\n",
    "\n",
    "G2poly(Htoq(CDF.0))^3/(deltapoly(Htoq(CDF.0)))"
   ]
  },
  {
   "cell_type": "markdown",
   "metadata": {},
   "source": [
    "Second sanity check: Lemma 2.1 says\n",
    "* $\\displaystyle\\Delta(\\rho)=-\\frac{3^3}{(2\\pi)^{24}}\\Gamma\\left(\\frac{1}{3}\\right)^{36},\\quad$ where $\\rho = e^{\\frac{i\\pi}{3}}$ and $\\Gamma$ stands for Euler's Gamma function, and\n",
    "* $\\displaystyle \\Delta(i)=\\frac{1}{2^{24}\\pi^{18}}\\Gamma\\left(\\frac{1}{4}\\right)^{24}.$"
   ]
  },
  {
   "cell_type": "code",
   "execution_count": 27,
   "metadata": {},
   "outputs": [
    {
     "data": {
      "text/plain": [
       "-0.00480513837705295 - 7.70778751650959e-18*I"
      ]
     },
     "execution_count": 27,
     "metadata": {},
     "output_type": "execute_result"
    }
   ],
   "source": [
    "rho = exp(2*CDF.pi()*CDF.0/3)\n",
    "deltapoly(Htoq(rho))"
   ]
  },
  {
   "cell_type": "code",
   "execution_count": 21,
   "metadata": {},
   "outputs": [
    {
     "data": {
      "text/plain": [
       "-0.00480513837705297"
      ]
     },
     "execution_count": 21,
     "metadata": {},
     "output_type": "execute_result"
    }
   ],
   "source": [
    "numerical_approx(-3^3/(2*CDF.pi())^24 * gamma(1/3)^36)"
   ]
  },
  {
   "cell_type": "code",
   "execution_count": 25,
   "metadata": {},
   "outputs": [
    {
     "data": {
      "text/plain": [
       "0.00178536985064215"
      ]
     },
     "execution_count": 25,
     "metadata": {},
     "output_type": "execute_result"
    }
   ],
   "source": [
    "deltapoly(Htoq(CDF.0))"
   ]
  },
  {
   "cell_type": "code",
   "execution_count": 23,
   "metadata": {},
   "outputs": [
    {
     "data": {
      "text/plain": [
       "0.00178536985064215"
      ]
     },
     "execution_count": 23,
     "metadata": {},
     "output_type": "execute_result"
    }
   ],
   "source": [
    "numerical_approx(1/(2^24*CDF.pi()^18) * gamma(1/4)^24)"
   ]
  },
  {
   "cell_type": "markdown",
   "metadata": {},
   "source": [
    "Third sanity check: In Lemma 2.3, we claim that\n",
    "$$f(i) = 3\\log|g_2(i)|-12\\log(2\\pi) = 3\\log|G_2(i)| = \n",
    "\\log\\left(\\frac{3^3}{2^{18}\\pi^{18}}\\Gamma\\left(\\frac{1}{4}\\right)^{24}\\right) < 1.1266$$"
   ]
  },
  {
   "cell_type": "code",
   "execution_count": 29,
   "metadata": {},
   "outputs": [
    {
     "data": {
      "text/plain": [
       "1.1265902633899678"
      ]
     },
     "execution_count": 29,
     "metadata": {},
     "output_type": "execute_result"
    }
   ],
   "source": [
    "3*log(abs(g2poly(Htoq(CDF.0)))) - 12*log(2*CDF.pi())"
   ]
  },
  {
   "cell_type": "code",
   "execution_count": 41,
   "metadata": {},
   "outputs": [
    {
     "data": {
      "text/plain": [
       "1.12659026338997"
      ]
     },
     "execution_count": 41,
     "metadata": {},
     "output_type": "execute_result"
    }
   ],
   "source": [
    "3*log(abs(G2poly(Htoq(CDF.0))))"
   ]
  },
  {
   "cell_type": "code",
   "execution_count": 31,
   "metadata": {},
   "outputs": [
    {
     "data": {
      "text/plain": [
       "1.12659026338997"
      ]
     },
     "execution_count": 31,
     "metadata": {},
     "output_type": "execute_result"
    }
   ],
   "source": [
    "numerical_approx(log(3^3/(2^18*CDF.pi()^18) * gamma(1/4)^24))"
   ]
  },
  {
   "cell_type": "markdown",
   "metadata": {},
   "source": [
    "In **Lemma 2.3** we compute upper and lower bounds on the function\n",
    "\\begin{align*}\n",
    "f(\\tau) & = \\log\\max(|\\Delta(\\tau)|, |j(\\tau)\\Delta(\\tau)|)\\\\\n",
    "& = \n",
    "\\log\\max(|\\Delta(\\tau)|, |g_2(\\tau)^3(2\\pi)^{-12}|) \\\\\n",
    "& = \\left\\{ \n",
    "    \\begin{array}{ll} \\log|\\Delta(\\tau)| & \\text{if $|j(\\tau)\\vert < 1$} \\\\\n",
    "    3\\log|g_2(\\tau)| - 12\\log(2\\pi) & \\text{if $|j(\\tau)| \\geq 1$.}\n",
    "    \\end{array}\\right. \\\\\n",
    "& = \\left\\{ \n",
    "    \\begin{array}{ll} \\log|\\Delta(\\tau)| & \\text{if $|j(\\tau)\\vert < 1$} \\\\\n",
    "    3\\log|G_2(\\tau)|  & \\text{if $|j(\\tau)| \\geq 1$.}\n",
    "    \\end{array}\\right.\n",
    "\\end{align*}\n",
    "\n",
    "on the fundamental domain $\\mathcal{F}$.\n",
    "\n",
    "The Maximum Modulus Principle tells us to look on the boundary (and at the cusp). This boundary includes the locus of $|j(\\tau)|=1$ inside $\\mathcal{F}$. This consists of small, nearly circular arcs close to the two corners (6th roots of unity) of $\\mathcal{F}$. "
   ]
  },
  {
   "cell_type": "code",
   "execution_count": 43,
   "metadata": {},
   "outputs": [
    {
     "data": {
      "text/plain": [
       "1.12659026338997"
      ]
     },
     "execution_count": 43,
     "metadata": {},
     "output_type": "execute_result"
    }
   ],
   "source": [
    "f = lambda z: log(max(abs(deltapoly(Htoq(z))), abs(G2poly(Htoq(z)))^3))\n",
    "\n",
    "f(i)"
   ]
  },
  {
   "cell_type": "markdown",
   "metadata": {},
   "source": [
    "Here we plot $f(\\tau)$ for $\\tau\\in\\mathcal{F}$. It is clear from the plot that $f$ attains its maximum at $i$ and its minimum near the corners. \n",
    "\n",
    "Most of this surface is $z = \\log|G_2(\\tau)|$, but this goes to $-\\infty$ at the sixth roots of unity $\\rho, \\rho^2$, where $G_2$ (and $j$) vanishes. These spikes are cut off and replaced by $\\log|\\Delta(\\tau)|$, which is close to constant in this region.\n",
    "\n",
    "Note that we're actually plotting $0.2f(\\tau)$, so it's easier to see what's going on."
   ]
  },
  {
   "cell_type": "code",
   "execution_count": null,
   "metadata": {},
   "outputs": [],
   "source": [
    "from numpy import arange\n",
    "\n",
    "x, y = var('x y')\n",
    "\n",
    "# We define f(z) = 0 for z outside the fundamental domain, making it easier to plot\n",
    "\n",
    "fF = lambda z: 0.0 if (abs(z) < 1.0) or abs(real_part(z)) > 0.5 else f(z)\n",
    "\n",
    "fF_plot = list_plot3d([(x, y, 0.2*fF(x + I*y)) for x in arange(-0.55,0.55,0.01) for y in arange(0.8, 2.0, 0.005)], \n",
    "                 interpolation_type='linear')\n",
    "\n",
    "\n",
    "fF_plot.show()"
   ]
  },
  {
   "cell_type": "markdown",
   "metadata": {},
   "source": [
    "Let's zoom into those corners to see where exactly the minimum occurs. Is it at $\\tau = \\rho$?"
   ]
  },
  {
   "cell_type": "code",
   "execution_count": null,
   "metadata": {},
   "outputs": [],
   "source": [
    "pointset = [(x, y, 0.2*fF(x + I*y)) for x in arange(0.45,0.51,0.001) for y in arange(0.85, 0.95, 0.001)]\n",
    "\n",
    "fF_corner = list_plot3d(pointset, interpolation_type='linear')\n",
    "\n",
    "fF_corner.show()"
   ]
  },
  {
   "cell_type": "markdown",
   "metadata": {},
   "source": [
    "No. The lowest point occurs on the vertical line $\\mathrm{Re}(\\tau)=\\frac{1}{2}$ where $j(\\tau) = 1$ (note that $j$ is real on this line).\n",
    "\n",
    "We can read off an approximation of the lowest value:"
   ]
  },
  {
   "cell_type": "code",
   "execution_count": 75,
   "metadata": {},
   "outputs": [
    {
     "data": {
      "text/plain": [
       "-5.53043062035446"
      ]
     },
     "execution_count": 75,
     "metadata": {},
     "output_type": "execute_result"
    }
   ],
   "source": [
    "B = 0.0\n",
    "for (x,y,z) in pointset:\n",
    "    if z < B:\n",
    "        B = z\n",
    "        \n",
    "B"
   ]
  },
  {
   "cell_type": "markdown",
   "metadata": {},
   "source": [
    "We need to compute this minimum to better accuracy. We solve for $j(0.5 + iy) = 1$ for $y\\in[\\frac{\\sqrt{3}}{2}, 1]$:"
   ]
  },
  {
   "cell_type": "code",
   "execution_count": 87,
   "metadata": {},
   "outputs": [
    {
     "data": {
      "text/plain": [
       "0.8944431353666745"
      ]
     },
     "execution_count": 87,
     "metadata": {},
     "output_type": "execute_result"
    }
   ],
   "source": [
    "y_min = find_root(lambda y: abs(elliptic_j(0.5 + I*y))-1.0, 0.86, 1.0)\n",
    "y_min"
   ]
  },
  {
   "cell_type": "code",
   "execution_count": 88,
   "metadata": {},
   "outputs": [
    {
     "data": {
      "text/plain": [
       "-5.53342789843114"
      ]
     },
     "execution_count": 88,
     "metadata": {},
     "output_type": "execute_result"
    }
   ],
   "source": [
    "f(0.5 + I*y_min)"
   ]
  },
  {
   "cell_type": "code",
   "execution_count": 89,
   "metadata": {},
   "outputs": [
    {
     "data": {
      "text/plain": [
       "-5.53342789843114"
      ]
     },
     "execution_count": 89,
     "metadata": {},
     "output_type": "execute_result"
    }
   ],
   "source": [
    "3*log(abs(G2poly(Htoq(0.5 + I*y_min))))"
   ]
  },
  {
   "cell_type": "code",
   "execution_count": 90,
   "metadata": {},
   "outputs": [
    {
     "data": {
      "text/plain": [
       "-5.53342789843171"
      ]
     },
     "execution_count": 90,
     "metadata": {},
     "output_type": "execute_result"
    }
   ],
   "source": [
    "log(abs(deltapoly(Htoq(0.5 + I*y_min))))"
   ]
  },
  {
   "cell_type": "markdown",
   "metadata": {},
   "source": [
    "So $f(\\tau) > -5.5335$ seems correct.\n",
    "\n",
    "<hr>"
   ]
  },
  {
   "cell_type": "markdown",
   "metadata": {},
   "source": [
    "Now we plot $f(\\tau)$ on the boundary of $\\mathcal{F}$, as well as on the contours $\\partial D$ and $\\partial D'$ where $|j(\\tau)|=1$ inside $\\mathcal{F}$. This recreates the plots in the paper, and again shows that we have indeed found the global minimum of $f(\\tau)$.\n",
    "\n",
    "The boundary of $\\mathcal{F}$ consists of:\n",
    "\n",
    "* $C$ : the circular arc from $\\rho$ to $\\rho^2$ of radius 1;\n",
    "* $L$ : the halfline $\\mathrm{Re}{\\tau} = \\frac{1}{2}$ and $\\mathrm{Im}(\\tau) \\geq \\frac{\\sqrt{3}}{2}$;\n",
    "* $L'$ : the halfline $\\mathrm{Re}{\\tau} = -\\frac{1}{2}$ and $\\mathrm{Im}(\\tau) \\geq \\frac{\\sqrt{3}}{2}$;\n",
    "\n",
    "We also two contours where $|j(\\tau)|=1$ inside $\\mathcal{F}$:\n",
    "* $\\partial D$ : near $\\rho$;\n",
    "* $\\partial D'$ : near $\\rho^2$;"
   ]
  },
  {
   "cell_type": "markdown",
   "metadata": {},
   "source": [
    "We first construct the contour $\\partial D$. For this we first define a function to compute the $y$-value where $|j(x+iy)|=1$ for given $x$."
   ]
  },
  {
   "cell_type": "code",
   "execution_count": 134,
   "metadata": {},
   "outputs": [
    {
     "data": {
      "text/plain": [
       "(0.8944431353668976, 1.00000000002374)"
      ]
     },
     "execution_count": 134,
     "metadata": {},
     "output_type": "execute_result"
    }
   ],
   "source": [
    "def jisone(x, ymin=0.8, ymax=0.9, target=1.0):\n",
    "    '''Returns y value for which |j(x+I*y)| == 1 and x^2 + y^2 >= 1'''\n",
    "    x = float(x)\n",
    "    if x^2 + ymin^2 < 1.0:\n",
    "        ymin = numerical_approx(sqrt(1-x^2))\n",
    "    try: \n",
    "        y = find_root(lambda y: abs(elliptic_j(x + I*y))-target, 0.7, 0.9)\n",
    "#         y = find_root(lambda y: abs(elliptic_j(x + I*y))-1.0, 0.86, 1.0)\n",
    "    except:\n",
    "        return ymin, 100\n",
    "    return y, abs(elliptic_j(x + I*y))\n",
    "\n",
    "jisone(0.5)"
   ]
  },
  {
   "cell_type": "code",
   "execution_count": 147,
   "metadata": {},
   "outputs": [],
   "source": [
    "dD = []\n",
    "\n",
    "for x in arange(0.45, 0.5, 0.0001):\n",
    "    (y, j) = jisone(x)\n",
    "    if j < 100 and x^2 + y^2 >= 1.0:\n",
    "        dD.append((x,y))\n",
    "        \n",
    "# dD"
   ]
  },
  {
   "cell_type": "code",
   "execution_count": 148,
   "metadata": {},
   "outputs": [
    {
     "data": {
      "image/png": "[encoded data removed]",
      "text/plain": [
       "Graphics object consisting of 1 graphics primitive"
      ]
     },
     "metadata": {},
     "output_type": "display_data"
    }
   ],
   "source": [
    "D_plot = list_plot(dD, plotjoined=True, color='red')\n",
    "D_plot.show()"
   ]
  },
  {
   "cell_type": "markdown",
   "metadata": {},
   "source": [
    "Now we can plot all of our boundaries:"
   ]
  },
  {
   "cell_type": "code",
   "execution_count": 151,
   "metadata": {},
   "outputs": [
    {
     "data": {
      "image/png": "[encoded data removed]",
      "text/plain": [
       "Graphics object consisting of 18 graphics primitives"
      ]
     },
     "metadata": {},
     "output_type": "display_data"
    }
   ],
   "source": [
    "pic = arc((0,0), 1, sector=(pi/3,2*pi/3), color='black')\\\n",
    "+line([(-0.5, 0.866), (-0.5,2)], color='black')\\\n",
    "+line([(0.5, 0.866), (0.5,2)], color='black')\\\n",
    "+list_plot(dD, plotjoined=True, color='red')\\\n",
    "+list_plot([(-x, y) for (x,y) in dD], plotjoined=True, color='red')\\\n",
    "+circle((-0.5, 0.866), 0.005, fill=True, color='black')\\\n",
    "+circle((0.5, 0.866), 0.005, fill=True, color='black')\\\n",
    "+circle((0, 1), 0.005, fill=True, color='black')\\\n",
    "+text('$i$', (0, 1.05), color='black')\\\n",
    "+text('$\\\\rho$', (0.52, 0.82), color='black')\\\n",
    "+text('$\\\\rho^2$', (-0.54, 0.82), color='black')\\\n",
    "+text('$\\\\rho^2$', (-0.54, 0.82), color='black')\\\n",
    "+text(\"$L'$\", (-0.54, 1.5), color='blue')\\\n",
    "+text('$L$', (0.54, 1.5), color='blue')\\\n",
    "+text('$C$', (-0.1, 0.95), color='blue')\\\n",
    "+text(\"$D'$\", (-0.45, 0.94), color='red')\\\n",
    "+text(\"$D$\", (0.45, 0.94), color='red')\\\n",
    "+text(\"$\\\\mathcal{F}$\", (0, 1.8), color='black')\\\n",
    "\n",
    "show(pic, axes=False)"
   ]
  },
  {
   "cell_type": "markdown",
   "metadata": {},
   "source": [
    "Finally, we can plot $f(\\tau)$ on these boundaries. Due to symmetry, we will only plot $\\mathrm{Re}(\\tau) \\geq 0$. \n",
    "\n",
    "We combine several plots:\n",
    "* $f(\\tau)$ for $\\tau$ on the arc $C$. Here $x=\\mathrm{re}(\\tau)$ and $y = f(\\tau)$;\n",
    "* $f(\\tau)$ for $\\tau$ on the line $L$. Here $x=t \\in[\\frac{\\sqrt{3}}{2}, \\frac{3\\sqrt{3}}{2}]$ and $y=f(0.5 + it)$;\n",
    "* $f(\\tau)$ for $\\tau$ on $\\partial D$. Here $x=\\mathrm{re}(\\tau)$ and $y = f(\\tau)$. This is plotted in red.\n"
   ]
  },
  {
   "cell_type": "code",
   "execution_count": 156,
   "metadata": {},
   "outputs": [
    {
     "data": {
      "image/png": "[encoded data removed]",
      "text/plain": [
       "Graphics object consisting of 1 graphics primitive"
      ]
     },
     "execution_count": 156,
     "metadata": {},
     "output_type": "execute_result"
    }
   ],
   "source": [
    "fC_plot = list_plot([(sin(t), f(sin(t) + I*cos(t))) for t in arange(0, pi/6, 0.01)], plotjoined=True, color='black')\n",
    "fC_plot"
   ]
  },
  {
   "cell_type": "code",
   "execution_count": 166,
   "metadata": {},
   "outputs": [
    {
     "data": {
      "image/png": "[encoded data removed]",
      "text/plain": [
       "Graphics object consisting of 1 graphics primitive"
      ]
     },
     "execution_count": 166,
     "metadata": {},
     "output_type": "execute_result"
    }
   ],
   "source": [
    "fL_plot = list_plot([(t-0.5, f(0.5 + I*sqrt(3)*t/2)) for t in arange(1, 3, 0.01)], plotjoined=True, color='black')\n",
    "fL_plot"
   ]
  },
  {
   "cell_type": "code",
   "execution_count": 164,
   "metadata": {},
   "outputs": [
    {
     "data": {
      "image/png": "[encoded data removed]",
      "text/plain": [
       "Graphics object consisting of 1 graphics primitive"
      ]
     },
     "execution_count": 164,
     "metadata": {},
     "output_type": "execute_result"
    }
   ],
   "source": [
    "fD_plot = list_plot([(x, f(x + I*y)) for (x,y) in dD], plotjoined=True, color='red')\n",
    "fD_plot"
   ]
  },
  {
   "cell_type": "code",
   "execution_count": 175,
   "metadata": {},
   "outputs": [
    {
     "data": {
      "image/png": "[encoded data removed]",
      "text/plain": [
       "Graphics object consisting of 3 graphics primitives"
      ]
     },
     "metadata": {},
     "output_type": "display_data"
    }
   ],
   "source": [
    "show(fD_plot+fL_plot+fC_plot, axes=False, frame=True, ticks=[[],1.0], figsize=8, aspect_ratio=0.15)\n"
   ]
  },
  {
   "cell_type": "markdown",
   "metadata": {},
   "source": [
    "This confirms again that the lowest point on this plot occurs when $j(\\tau) = 1$ and $\\mathrm{Re}(\\tau) = \\frac{1}{2}$."
   ]
  },
  {
   "cell_type": "markdown",
   "metadata": {},
   "source": [
    "Finally, let's draw it one more time as nicely as possible. We multiply $x$-coords by 6 so we can use `aspect_ratio=1` to draw round points."
   ]
  },
  {
   "cell_type": "code",
   "execution_count": 184,
   "metadata": {},
   "outputs": [],
   "source": [
    "fig1_plots = list_plot([(6*sin(t), f(sin(t) + I*cos(t))) for t in arange(0, pi/6, 0.01)], plotjoined=True, color='black')+\\\n",
    "list_plot([(6*(t-0.5), f(0.5 + I*sqrt(3)*t/2)) for t in arange(1, 3, 0.01)], plotjoined=True, color='black')+\\\n",
    "list_plot([(6*x, f(x + I*y)) for (x,y) in dD], plotjoined=True, color='red')"
   ]
  },
  {
   "cell_type": "code",
   "execution_count": 189,
   "metadata": {},
   "outputs": [
    {
     "data": {
      "image/png": "[encoded data removed]",
      "text/plain": [
       "Graphics object consisting of 11 graphics primitives"
      ]
     },
     "metadata": {},
     "output_type": "display_data"
    }
   ],
   "source": [
    "fig1 = fig1_plots\\\n",
    "+circle((0,1.127), 0.05, fill=True, color='blue')\\\n",
    "+text('$i$', (0,1.5), color='blue')\\\n",
    "+circle((3, -5.35), 0.05, fill=True, color='blue')\\\n",
    "+text('$\\\\rho$', (3, -5), color='blue')\\\n",
    "+text('$i\\\\infty$',(15, 0.5), color='blue')\\\n",
    "+text('$C$', (1.6,-0.4), color='blue')\\\n",
    "+text('$L$', (8, -0.5), color='blue')\\\n",
    "+text('$\\\\partial D$', (3,-5.8), color='red')\n",
    "fig1.show(axes=False, frame=True, ticks=[[],1.0], figsize=8, aspect_ratio=1)"
   ]
  },
  {
   "cell_type": "markdown",
   "metadata": {},
   "source": [
    "<hr>\n",
    "\n",
    "On p.13, we bound $-\\log|\\Delta(\\tau)(\\mathrm{Im}\\tau)^6|$ for $\\tau = iy$ with $j(\\tau)\\in[1728,3456]$.\n",
    "\n",
    "First, we check that this means $1 \\leq y < 1.2536$."
   ]
  },
  {
   "cell_type": "code",
   "execution_count": 190,
   "metadata": {},
   "outputs": [
    {
     "data": {
      "text/plain": [
       "(1728.00000000000, 3456.76668132859)"
      ]
     },
     "execution_count": 190,
     "metadata": {},
     "output_type": "execute_result"
    }
   ],
   "source": [
    "elliptic_j(I*1), elliptic_j(I*1.2536)"
   ]
  },
  {
   "cell_type": "markdown",
   "metadata": {},
   "source": [
    "Now we plot $x \\mapsto -\\log|\\Delta(ix)x^6|$:"
   ]
  },
  {
   "cell_type": "code",
   "execution_count": 200,
   "metadata": {},
   "outputs": [
    {
     "data": {
      "image/png": "[encoded data removed]",
      "text/plain": [
       "Graphics object consisting of 1 graphics primitive"
      ]
     },
     "execution_count": 200,
     "metadata": {},
     "output_type": "execute_result"
    }
   ],
   "source": [
    "g = lambda x: -log(abs(deltapoly(Htoq(I*x)))*x^6)\n",
    "\n",
    "plot(g, (x, 1.0, 1.2536))"
   ]
  },
  {
   "cell_type": "markdown",
   "metadata": {},
   "source": [
    "This function is increasing and the maximal value is clearly at the right endpoint. There we have"
   ]
  },
  {
   "cell_type": "code",
   "execution_count": 201,
   "metadata": {},
   "outputs": [
    {
     "data": {
      "text/plain": [
       "6.52959831544935"
      ]
     },
     "execution_count": 201,
     "metadata": {},
     "output_type": "execute_result"
    }
   ],
   "source": [
    "g(1.2536)"
   ]
  },
  {
   "cell_type": "markdown",
   "metadata": {},
   "source": [
    "We conclude that indeed,\n",
    "$$- \\log\\big[|\\Delta(\\tau)|(\\mathrm{Im}\\tau)^6\\big] \\leq 6.5296$$\n",
    "for $\\tau=iy$ and $j(\\tau)\\in[1728, 3456]$."
   ]
  },
  {
   "cell_type": "code",
   "execution_count": null,
   "metadata": {},
   "outputs": [],
   "source": []
  }
 ],
 "metadata": {
  "kernelspec": {
   "display_name": "SageMath 9.3",
   "language": "sage",
   "name": "sagemath"
  },
  "language_info": {
   "codemirror_mode": {
    "name": "ipython",
    "version": 3
   },
   "file_extension": ".py",
   "mimetype": "text/x-python",
   "name": "python",
   "nbconvert_exporter": "python",
   "pygments_lexer": "ipython3",
   "version": "3.7.10"
  }
 },
 "nbformat": 4,
 "nbformat_minor": 2
}
